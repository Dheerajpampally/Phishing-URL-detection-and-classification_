{
 "cells": [
  {
   "cell_type": "code",
   "execution_count": 1,
   "id": "e9562826",
   "metadata": {},
   "outputs": [],
   "source": [
    "from flask import Flask, request, Response, render_template\n",
    "import numpy as np\n",
    "import pandas as pd\n",
    "from sklearn import metrics \n",
    "import warnings\n",
    "import pickle\n",
    "warnings.filterwarnings('ignore')\n",
    "\n",
    "import mimetypes\n",
    "mimetypes.add_type(\"text/css\", \".css\", True)\n"
   ]
  },
  {
   "cell_type": "code",
   "execution_count": 2,
   "id": "5bf870a0",
   "metadata": {},
   "outputs": [],
   "source": [
    "file = open(\"XGBclassifier.pkl\",\"rb\")\n",
    "xgb = pickle.load(file)\n",
    "# file.close()"
   ]
  },
  {
   "cell_type": "code",
   "execution_count": 3,
   "id": "609a652d",
   "metadata": {},
   "outputs": [],
   "source": [
    "app = Flask(__name__)"
   ]
  },
  {
   "cell_type": "code",
   "execution_count": 4,
   "id": "90ffd1e9",
   "metadata": {},
   "outputs": [
    {
     "name": "stderr",
     "output_type": "stream",
     "text": [
      " * Running on http://localhost:9000/ (Press CTRL+C to quit)\n",
      "127.0.0.1 - - [19/Nov/2022 09:00:51] \"GET / HTTP/1.1\" 200 -\n",
      "127.0.0.1 - - [19/Nov/2022 09:00:52] \"GET /favicon.ico HTTP/1.1\" 404 -\n",
      "127.0.0.1 - - [19/Nov/2022 09:00:57] \"POST / HTTP/1.1\" 200 -\n"
     ]
    },
    {
     "name": "stdout",
     "output_type": "stream",
     "text": [
      "yees\n",
      "www.google.com\n",
      "good\n"
     ]
    },
    {
     "name": "stderr",
     "output_type": "stream",
     "text": [
      "127.0.0.1 - - [19/Nov/2022 09:01:03] \"GET / HTTP/1.1\" 200 -\n",
      "127.0.0.1 - - [19/Nov/2022 09:01:08] \"POST / HTTP/1.1\" 200 -\n"
     ]
    },
    {
     "name": "stdout",
     "output_type": "stream",
     "text": [
      "yees\n",
      "http://www.malwaredomainlist.com/hostslist/hosts.txt\n",
      "bad\n"
     ]
    },
    {
     "name": "stderr",
     "output_type": "stream",
     "text": [
      "127.0.0.1 - - [19/Nov/2022 10:09:33] \"GET / HTTP/1.1\" 200 -\n",
      "127.0.0.1 - - [19/Nov/2022 10:09:36] \"POST / HTTP/1.1\" 200 -\n"
     ]
    },
    {
     "name": "stdout",
     "output_type": "stream",
     "text": [
      "yees\n",
      "http://www.malwaredomainlist.com/hostslist/hosts.txt\n",
      "bad\n"
     ]
    },
    {
     "name": "stderr",
     "output_type": "stream",
     "text": [
      "127.0.0.1 - - [19/Nov/2022 12:01:51] \"GET / HTTP/1.1\" 200 -\n",
      "127.0.0.1 - - [19/Nov/2022 12:02:28] \"POST / HTTP/1.1\" 200 -\n"
     ]
    },
    {
     "name": "stdout",
     "output_type": "stream",
     "text": [
      "yees\n",
      "www.google.com\n",
      "good\n"
     ]
    },
    {
     "name": "stderr",
     "output_type": "stream",
     "text": [
      "127.0.0.1 - - [19/Nov/2022 12:02:33] \"POST / HTTP/1.1\" 200 -\n"
     ]
    },
    {
     "name": "stdout",
     "output_type": "stream",
     "text": [
      "yees\n",
      "http://www.malwaredomainlist.com/hostslist/hosts.txt\n",
      "bad\n"
     ]
    }
   ],
   "source": [
    "# read our pickle file and label our logisticmodel as model\n",
    "phish_model_ls = pickle.load(open('XGBclassifier.pkl', 'rb'))\n",
    "\n",
    "# urlError = {\n",
    "#     \"Please enter url field\"\n",
    "# }\n",
    "\n",
    "\n",
    "# @app.route('/')\n",
    "# def home():\n",
    "#     return render_template('index.html')\n",
    "\n",
    "@app.route(\"/\", methods=[\"GET\", \"POST\"])\n",
    "def predict():\n",
    "    \n",
    "    if request.method == \"POST\":\n",
    "        print(\"yees\")\n",
    "\n",
    "        X_predict = []\n",
    "\n",
    "        url = request.form.get(\"EnterYourSite\")\n",
    "        print(url)\n",
    "#         if url:\n",
    "        def tokenizing(url):\n",
    "            #tokenizing\n",
    "            tokenizer=RegexpTokenizer(r'[A-Za-z]+')\n",
    "            text=pd.Series(url)\n",
    "            message= text.apply(tokenizer.tokenize)\n",
    "            return message\n",
    "        \n",
    "        X_predict.append(str(url))\n",
    "        y_Predict = ''.join(xgb.predict(X_predict))\n",
    "        print(y_Predict)\n",
    "        if y_Predict == 1:\n",
    "            result = \"This is a Phishing Site\"\n",
    "        else:\n",
    "            result = \"This is not a Phishing Site\"\n",
    "\n",
    "        return render_template('index.html', prediction_text = result)\n",
    "    return render_template('index.html')\n",
    "\n",
    "#     elif not url:\n",
    "#         return Response(\n",
    "#             response=urlError,\n",
    "#             status=400\n",
    "#         )\n",
    "    return render_template('index.html')\n",
    "\n",
    "\n",
    "if __name__ == '__main__':\n",
    "    from werkzeug.serving import run_simple\n",
    "    run_simple('localhost', 9000, app)"
   ]
  },
  {
   "cell_type": "code",
   "execution_count": null,
   "id": "622ea02a",
   "metadata": {},
   "outputs": [],
   "source": []
  }
 ],
 "metadata": {
  "kernelspec": {
   "display_name": "Python 3 (ipykernel)",
   "language": "python",
   "name": "python3"
  },
  "language_info": {
   "codemirror_mode": {
    "name": "ipython",
    "version": 3
   },
   "file_extension": ".py",
   "mimetype": "text/x-python",
   "name": "python",
   "nbconvert_exporter": "python",
   "pygments_lexer": "ipython3",
   "version": "3.9.12"
  }
 },
 "nbformat": 4,
 "nbformat_minor": 5
}
